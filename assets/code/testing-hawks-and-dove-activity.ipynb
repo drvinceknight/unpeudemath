{
 "cells": [
  {
   "cell_type": "code",
   "execution_count": 1,
   "metadata": {},
   "outputs": [],
   "source": [
    "%matplotlib inline\n",
    "\n",
    "import collections\n",
    "\n",
    "import matplotlib.pyplot as plt\n",
    "import numpy as np"
   ]
  },
  {
   "cell_type": "code",
   "execution_count": 2,
   "metadata": {},
   "outputs": [],
   "source": [
    "def roll_n_sided_dice(n=6):\n",
    "    \"\"\"\n",
    "    Roll a dice with n sides.\n",
    "    \"\"\"\n",
    "    return np.random.randint(1, n + 1)\n",
    "\n",
    "class MoranProcess:\n",
    "    \"\"\"\n",
    "    A class for a moran process with a population of \n",
    "    size N=3 using the standard Hawk-Dove Game:\n",
    "    \n",
    "    A = \n",
    "       [0, 3]\n",
    "       [1, 2]\n",
    "\n",
    "    Note that this is a simulation corresponding to an \n",
    "    in class activity where students roll dice.\n",
    "    \"\"\"\n",
    "    def __init__(self, number_of_hawks=1, seed=None):\n",
    "        \n",
    "        if seed is not None:\n",
    "            np.random.seed(seed)\n",
    "            \n",
    "        self.number_of_hawks = number_of_hawks\n",
    "        self.number_of_doves = 3 - number_of_hawks\n",
    "        \n",
    "        self.dice_and_values_for_hawk_birth = {1: (6, {1, 2, 3}), 2: (4, {1, 2, 3})}\n",
    "        self.dice_and_values_for_hawk_death = {1: (6, {1, 2}), 2: (6, {1, 2, 3, 4})}\n",
    "\n",
    "        self.history = [(self.number_of_hawks, self.number_of_doves)]\n",
    "        \n",
    "    def step(self):\n",
    "        \"\"\"\n",
    "        Select a hawk or a dove for birth.\n",
    "        Select a hawk or a dove for death.\n",
    "        \n",
    "        Update history and states.\n",
    "        \"\"\"      \n",
    "        birth_dice, birth_values = self.dice_and_values_for_hawk_birth[self.number_of_hawks]\n",
    "        death_dice, death_values = self.dice_and_values_for_hawk_death[self.number_of_hawks]\n",
    "\n",
    "        select_hawk_for_birth = self.roll_dice_for_selection(dice=birth_dice, values=birth_values)\n",
    "        select_hawk_for_death = self.roll_dice_for_selection(dice=death_dice, values=death_values)\n",
    "       \n",
    "        if select_hawk_for_birth:\n",
    "            self.number_of_hawks += 1\n",
    "        else:\n",
    "            self.number_of_doves += 1\n",
    "            \n",
    "        if select_hawk_for_death:\n",
    "            self.number_of_hawks -= 1\n",
    "        else:\n",
    "            self.number_of_doves -= 1\n",
    "        \n",
    "        self.history.append((self.number_of_hawks, self.number_of_doves))\n",
    "\n",
    "             \n",
    "    def roll_dice_for_selection(self, dice, values):\n",
    "        \"\"\"\n",
    "        Given a dice and values return if the random roll is in the values.\n",
    "        \"\"\"\n",
    "        return roll_n_sided_dice(n=dice) in values\n",
    "        \n",
    "    def simulate(self):\n",
    "        \"\"\"\n",
    "        Run the entire simulation: repeatedly step through \n",
    "        until the number of hawks is either 0 or 3.\n",
    "        \"\"\"\n",
    "        while self.number_of_hawks in [1, 2]:\n",
    "            self.step()\n",
    "        return self.number_of_hawks\n",
    "    \n",
    "    def __len__(self):\n",
    "        return len(self.history)"
   ]
  },
  {
   "cell_type": "code",
   "execution_count": 3,
   "metadata": {},
   "outputs": [],
   "source": [
    "repetitions = 10 ** 7\n",
    "end_states = []\n",
    "path_lengths = []\n",
    "for seed in range(repetitions):\n",
    "    mp = MoranProcess(seed=seed)\n",
    "    end_states.append(mp.simulate())\n",
    "    path_lengths.append(len(mp))"
   ]
  },
  {
   "cell_type": "code",
   "execution_count": 4,
   "metadata": {},
   "outputs": [
    {
     "data": {
      "text/plain": [
       "0.5452601"
      ]
     },
     "execution_count": 4,
     "metadata": {},
     "output_type": "execute_result"
    }
   ],
   "source": [
    "counts = collections.Counter(end_states)\n",
    "counts[3] / repetitions"
   ]
  },
  {
   "cell_type": "code",
   "execution_count": 5,
   "metadata": {},
   "outputs": [
    {
     "data": {
      "image/png": "[encoded data removed]",
      "text/plain": [
       "<matplotlib.figure.Figure at 0x7fa09eeb24e0>"
      ]
     },
     "metadata": {},
     "output_type": "display_data"
    }
   ],
   "source": [
    "plt.hist(path_lengths, bins=20)\n",
    "plt.title(\"Path lengths: Mean={:0.2f}, 95%={:0.2f},  80%={:0.2f}\".format(np.mean(path_lengths), \n",
    "                                                                         np.percentile(path_lengths, 95),\n",
    "                                                                         np.percentile(path_lengths, 80)));"
   ]
  },
  {
   "cell_type": "markdown",
   "metadata": {},
   "source": [
    "Note that this is not how we would do this in practice:"
   ]
  },
  {
   "cell_type": "code",
   "execution_count": 6,
   "metadata": {},
   "outputs": [
    {
     "data": {
      "text/plain": [
       "array([ 0.4545,  0.    ,  0.    ,  0.5455])"
      ]
     },
     "execution_count": 6,
     "metadata": {},
     "output_type": "execute_result"
    }
   ],
   "source": [
    "P = np.array([[1, 0, 0, 0],\n",
    "              [1 / 6, 1 / 2, 1 / 3, 0],\n",
    "              [0, 1 / 6, 7 / 12, 1 / 4],\n",
    "              [0, 0, 0, 1]])\n",
    "np.round(np.linalg.matrix_power(P, 100)[1], 4)"
   ]
  },
  {
   "cell_type": "code",
   "execution_count": 7,
   "metadata": {},
   "outputs": [],
   "source": [
    "def theoretic_fixation(N, game, i=1):\n",
    "    \"\"\"\n",
    "    Calculate x_i\n",
    "    \"\"\"\n",
    "    f_ones = np.array([(game[0, 0] * (i - 1) + game[0, 1] * (N - i)) / (N - 1) for i in range(1, N)])\n",
    "    f_twos = np.array([(game[1, 0] * i + game[1, 1] * (N - i - 1)) / (N - 1) for i in range(1, N)])\n",
    "    gammas = f_twos / f_ones\n",
    "    return (1 + np.sum(np.cumprod(gammas[:i-1]))) / (1 + np.sum(np.cumprod(gammas)))"
   ]
  },
  {
   "cell_type": "code",
   "execution_count": 8,
   "metadata": {},
   "outputs": [
    {
     "data": {
      "text/plain": [
       "0.54545454545454553"
      ]
     },
     "execution_count": 8,
     "metadata": {},
     "output_type": "execute_result"
    }
   ],
   "source": [
    "theoretic_fixation(N=3, game=np.array([[0, 3], [1, 2]]), i=1)"
   ]
  },
  {
   "cell_type": "code",
   "execution_count": 9,
   "metadata": {},
   "outputs": [
    {
     "data": {
      "image/png": "[encoded data removed]",
      "text/plain": [
       "<matplotlib.figure.Figure at 0x7fa09ede1f60>"
      ]
     },
     "metadata": {},
     "output_type": "display_data"
    }
   ],
   "source": [
    "Ns = range(2, 20 + 1)\n",
    "fixations = [theoretic_fixation(N=n, game=np.array([[0, 3], [1, 2]]), i=1)\n",
    "             for n in Ns]\n",
    "plt.scatter(Ns, fixations)\n",
    "plt.xlabel(\"$N$\")\n",
    "plt.ylabel(\"$x_1$\")\n",
    "plt.title(\"Theoretic fixation probability\");"
   ]
  }
 ],
 "metadata": {
  "anaconda-cloud": {},
  "kernelspec": {
   "display_name": "Python [conda env:anaconda3]",
   "language": "python",
   "name": "conda-env-anaconda3-py"
  },
  "language_info": {
   "codemirror_mode": {
    "name": "ipython",
    "version": 3
   },
   "file_extension": ".py",
   "mimetype": "text/x-python",
   "name": "python",
   "nbconvert_exporter": "python",
   "pygments_lexer": "ipython3",
   "version": "3.5.2"
  }
 },
 "nbformat": 4,
 "nbformat_minor": 2
}
